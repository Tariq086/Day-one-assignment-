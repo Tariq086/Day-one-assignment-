{
 "cells": [
  {
   "cell_type": "markdown",
   "metadata": {},
   "source": [
    "# Assigment_one Day_one \n",
    "Date 13/06/2024"
   ]
  },
  {
   "cell_type": "markdown",
   "metadata": {},
   "source": [
    "Question 1. What are reserved words in Python?\n",
    "Answer  keywords are the reserved word whose mening already  defined in python interpreter and they cannot use  as a variable name method  name or any other identifity.\n",
    "Total: keywords : 30 \n",
    "The reserved word in python are\n",
    "1. fales \n",
    "2. None \n",
    "3. True\n",
    "4. And\n",
    "5. As\n",
    "6. Assert \n",
    "7. Async \n",
    "8. await\n",
    "9. break\n",
    "10. class \n",
    "11. continue\n",
    "12. def\n",
    "13. del \n",
    "14. elif \n",
    "15. except \n",
    "16. finally \n",
    "17. for \n",
    "18. from\n",
    "19. global \n",
    "20. if \n",
    "21. import \n",
    "22. in \n",
    "23. lambds \n",
    "24. nonlocal \n",
    "24. not\n",
    "25. or\n",
    "26. pass\n",
    "27. raise\n",
    "28. return \n",
    "29. try\n",
    "30. while \n",
    "\n",
    " \n"
   ]
  },
  {
   "cell_type": "code",
   "execution_count": 161,
   "metadata": {},
   "outputs": [
    {
     "ename": "TypeError",
     "evalue": "'str' object is not callable",
     "output_type": "error",
     "traceback": [
      "\u001b[1;31m---------------------------------------------------------------------------\u001b[0m",
      "\u001b[1;31mTypeError\u001b[0m                                 Traceback (most recent call last)",
      "Cell \u001b[1;32mIn[161], line 6\u001b[0m\n\u001b[0;32m      3\u001b[0m age \u001b[38;5;241m=\u001b[39m \u001b[38;5;241m23\u001b[39m\n\u001b[0;32m      4\u001b[0m cast \u001b[38;5;241m=\u001b[39m \u001b[38;5;124m\"\u001b[39m\u001b[38;5;124mkhoso\u001b[39m\u001b[38;5;124m\"\u001b[39m\n\u001b[1;32m----> 6\u001b[0m \u001b[38;5;28;43mprint\u001b[39;49m\u001b[43m(\u001b[49m\u001b[43mscore\u001b[49m\u001b[43m)\u001b[49m\n\u001b[0;32m      7\u001b[0m \u001b[38;5;28mprint\u001b[39m(name)\n\u001b[0;32m      8\u001b[0m \u001b[38;5;28mprint\u001b[39m(age)\n",
      "\u001b[1;31mTypeError\u001b[0m: 'str' object is not callable"
     ]
    }
   ],
   "source": [
    "score = 200\n",
    "naame = \"tariq\"\n",
    "age = 23\n",
    "cast = \"khoso\"\n",
    "\n",
    "print(score)\n",
    "print(name)\n",
    "print(age)\n",
    "print(cast)"
   ]
  },
  {
   "cell_type": "markdown",
   "metadata": {},
   "source": [
    "Question 2:   what is difference between single and double quotes in Python?\n",
    "Ans: single and double quotes are equivalent,\n",
    "only difference is when we use an apostrophe or additional question marks inside the string.\n",
    "For Example:"
   ]
  },
  {
   "cell_type": "code",
   "execution_count": null,
   "metadata": {},
   "outputs": [],
   "source": [
    "a =  'hello'\n",
    "print(a)"
   ]
  },
  {
   "cell_type": "code",
   "execution_count": null,
   "metadata": {},
   "outputs": [],
   "source": [
    "name = '''hello'' tariq how are you?'\n",
    "print(name)"
   ]
  },
  {
   "cell_type": "markdown",
   "metadata": {},
   "source": []
  },
  {
   "cell_type": "markdown",
   "metadata": {},
   "source": [
    "#Double Quotation "
   ]
  },
  {
   "cell_type": "code",
   "execution_count": null,
   "metadata": {},
   "outputs": [],
   "source": [
    "name = \"hello\"\n",
    "print(name)"
   ]
  },
  {
   "cell_type": "markdown",
   "metadata": {},
   "source": [
    "Question 3 : What is the difference between variable and identifier?\n",
    "\n",
    "\n",
    "Ans: An identifier is just a name you give to something in your code,\n",
    "this name can be for variable function class or any other item.\n",
    "For Example: 'sum' 'student'.\n",
    "\n",
    "A variable is a specific type of identifier and also it  is a name that holds value,\n",
    "For Example: age = 23 here age is a variable that holds the value 23"
   ]
  },
  {
   "cell_type": "markdown",
   "metadata": {},
   "source": [
    "Question 4 : What is the difference between variable and constant?\n",
    "\n",
    "\n",
    "\n",
    "Ans: A constant does not change its value as the equation is solved. A variable, on the other hand, changes its value depending on the equation.\n",
    " "
   ]
  }
 ],
 "metadata": {
  "kernelspec": {
   "display_name": "Python 3",
   "language": "python",
   "name": "python3"
  },
  "language_info": {
   "codemirror_mode": {
    "name": "ipython",
    "version": 3
   },
   "file_extension": ".py",
   "mimetype": "text/x-python",
   "name": "python",
   "nbconvert_exporter": "python",
   "pygments_lexer": "ipython3",
   "version": "3.12.4"
  }
 },
 "nbformat": 4,
 "nbformat_minor": 2
}
